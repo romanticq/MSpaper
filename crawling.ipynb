{
 "cells": [
  {
   "cell_type": "markdown",
   "metadata": {},
   "source": [
    "# 네이버 기사 댓글"
   ]
  },
  {
   "cell_type": "code",
   "execution_count": 1,
   "metadata": {},
   "outputs": [],
   "source": [
    "from selenium import webdriver\n",
    "import time\n",
    "import os\n",
    "from bs4 import BeautifulSoup\n",
    "from selenium.webdriver.common.keys import Keys\n",
    "from selenium.webdriver.common.action_chains import ActionChains\n",
    "from selenium.webdriver.chrome.options import Options\n",
    "import pandas as pd\n",
    "from tqdm import tqdm"
   ]
  },
  {
   "cell_type": "code",
   "execution_count": 2,
   "metadata": {},
   "outputs": [],
   "source": [
    "driver = webdriver.Chrome('E:\\chromedriver_win32\\chromedriver.exe')"
   ]
  },
  {
   "cell_type": "code",
   "execution_count": 15,
   "metadata": {
    "code_folding": [],
    "scrolled": false
   },
   "outputs": [
    {
     "name": "stderr",
     "output_type": "stream",
     "text": [
      "100%|██████████████████████████████████████████████████████████████████████████████████| 50/50 [40:45<00:00, 48.92s/it]\n"
     ]
    }
   ],
   "source": [
    "driver.get('https://search.naver.com/search.naver?&where=news&query=%EC%B4%9D%EC%84%A0&sm=tab_pge&sort=0&photo=0&field=0&reporter_article=&pd=3&ds=2020.04.08&de=2020.04.08&docid=&nso=so:r,p:from20200408to20200408,a:all&mynews=0&cluster_rank=20&start=3001&refresh_start=0')\n",
    "time.sleep(1.5)\n",
    "\n",
    "news=[]\n",
    "pages=[]\n",
    "dates=[]\n",
    "\n",
    "for i in tqdm(range(50)):\n",
    "    html = driver.page_source\n",
    "    soup = BeautifulSoup(html, 'html.parser')\n",
    "\n",
    "    # 현재 페이지 번호\n",
    "    page_num = soup.find_all('div', class_='title_desc all_my')[0].text\n",
    "\n",
    "    # 현재 페이지 네이버 뉴스 개수\n",
    "    news_num = len(soup.select('dl > dd.txt_inline > a'))\n",
    "\n",
    "    # 크롤링(한 페이지)\n",
    "    for j in range(news_num):\n",
    "        # 새 탭에서 뉴스 열기\n",
    "        driver.find_elements_by_css_selector('dl > dd.txt_inline > a')[j].send_keys(Keys.CONTROL +\"\\n\")\n",
    "        time.sleep(1.5)\n",
    "        # 새 탭 뉴스로 화면 전환\n",
    "        driver.switch_to.window(driver.window_handles[-1])\n",
    "        time.sleep(1.5)\n",
    "        \n",
    "        # 크롤링\n",
    "        try:\n",
    "            # 댓글창 이동 클릭\n",
    "            driver.find_element_by_class_name('lo_txt').click()\n",
    "            time.sleep(1.5)\n",
    "            html2 = driver.page_source\n",
    "            soup2 = BeautifulSoup(html2, 'html.parser')\n",
    "            # 댓글수가 0이면 화면 종료\n",
    "            if soup2.find_all('span', class_='u_cbox_info_txt')[0].text == '0':\n",
    "                driver.close()\n",
    "                # 원래 화면으로 전환\n",
    "                driver.switch_to.window(driver.window_handles[0])\n",
    "\n",
    "            # 댓글수가 1개보다 많은 경우\n",
    "            else:\n",
    "                date = soup2.find_all('span', class_='t11')[0].text\n",
    "                while True:\n",
    "                    try:\n",
    "                        # 댓글 더보기 클릭\n",
    "                        driver.find_element_by_class_name('u_cbox_page_more').click()\n",
    "                        time.sleep(1)\n",
    "                    except:\n",
    "                        break\n",
    "\n",
    "                html2 = driver.page_source\n",
    "                soup2 = BeautifulSoup(html2, 'html.parser')\n",
    "\n",
    "                for k in range(len(soup2.find_all('span', class_='u_cbox_contents'))):\n",
    "                    news.append(soup2.find_all('span', class_='u_cbox_contents')[k].text)\n",
    "                    dates.append(date)\n",
    "                    pages.append(page_num)\n",
    "                driver.close()\n",
    "                driver.switch_to.window(driver.window_handles[0])\n",
    "\n",
    "        # 댓글 더보기가 없으면 화면 종료\n",
    "        except:\n",
    "            driver.close()\n",
    "            # 원래 화면으로 전환\n",
    "            driver.switch_to.window(driver.window_handles[0])\n",
    "    \n",
    "    # 한 페이지 크롤링 끝나면 다음 페이지로 이동\n",
    "    driver.find_element_by_class_name('next').click()\n",
    "    time.sleep(1.5)"
   ]
  },
  {
   "cell_type": "code",
   "execution_count": 16,
   "metadata": {},
   "outputs": [
    {
     "data": {
      "text/plain": [
       "2679"
      ]
     },
     "execution_count": 16,
     "metadata": {},
     "output_type": "execute_result"
    }
   ],
   "source": [
    "len(news)"
   ]
  },
  {
   "cell_type": "code",
   "execution_count": 17,
   "metadata": {},
   "outputs": [
    {
     "data": {
      "text/plain": [
       "2679"
      ]
     },
     "execution_count": 17,
     "metadata": {},
     "output_type": "execute_result"
    }
   ],
   "source": [
    "len(pages)"
   ]
  },
  {
   "cell_type": "code",
   "execution_count": 18,
   "metadata": {},
   "outputs": [
    {
     "data": {
      "text/plain": [
       "2679"
      ]
     },
     "execution_count": 18,
     "metadata": {},
     "output_type": "execute_result"
    }
   ],
   "source": [
    "len(dates)"
   ]
  },
  {
   "cell_type": "code",
   "execution_count": 19,
   "metadata": {},
   "outputs": [
    {
     "data": {
      "text/html": [
       "<div>\n",
       "<style scoped>\n",
       "    .dataframe tbody tr th:only-of-type {\n",
       "        vertical-align: middle;\n",
       "    }\n",
       "\n",
       "    .dataframe tbody tr th {\n",
       "        vertical-align: top;\n",
       "    }\n",
       "\n",
       "    .dataframe thead th {\n",
       "        text-align: right;\n",
       "    }\n",
       "</style>\n",
       "<table border=\"1\" class=\"dataframe\">\n",
       "  <thead>\n",
       "    <tr style=\"text-align: right;\">\n",
       "      <th></th>\n",
       "      <th>0</th>\n",
       "      <th>1</th>\n",
       "      <th>2</th>\n",
       "    </tr>\n",
       "  </thead>\n",
       "  <tbody>\n",
       "    <tr>\n",
       "      <th>0</th>\n",
       "      <td>신계용후보님은   참신하고  일  잘하실것 같습니다  예전에  과천시장때  과천시를...</td>\n",
       "      <td>2020.04.08. 오후 8:55</td>\n",
       "      <td>3,001-3,010 / 5,651건</td>\n",
       "    </tr>\n",
       "    <tr>\n",
       "      <th>1</th>\n",
       "      <td>당선되세요!</td>\n",
       "      <td>2020.04.08. 오후 8:55</td>\n",
       "      <td>3,001-3,010 / 5,651건</td>\n",
       "    </tr>\n",
       "    <tr>\n",
       "      <th>2</th>\n",
       "      <td>무릎을 탁 치고 Hands Up~~~~</td>\n",
       "      <td>2020.04.08. 오후 8:55</td>\n",
       "      <td>3,001-3,010 / 5,651건</td>\n",
       "    </tr>\n",
       "    <tr>\n",
       "      <th>3</th>\n",
       "      <td>인명진? 정치목사? 전광훈이나 도찐개찐</td>\n",
       "      <td>2020.04.08. 오후 9:01</td>\n",
       "      <td>3,001-3,010 / 5,651건</td>\n",
       "    </tr>\n",
       "    <tr>\n",
       "      <th>4</th>\n",
       "      <td>지금 이 시국에   목사가   할 일은   오로지 기도</td>\n",
       "      <td>2020.04.08. 오후 9:01</td>\n",
       "      <td>3,001-3,010 / 5,651건</td>\n",
       "    </tr>\n",
       "  </tbody>\n",
       "</table>\n",
       "</div>"
      ],
      "text/plain": [
       "                                                   0                    1  \\\n",
       "0  신계용후보님은   참신하고  일  잘하실것 같습니다  예전에  과천시장때  과천시를...  2020.04.08. 오후 8:55   \n",
       "1                                             당선되세요!  2020.04.08. 오후 8:55   \n",
       "2                              무릎을 탁 치고 Hands Up~~~~  2020.04.08. 오후 8:55   \n",
       "3                              인명진? 정치목사? 전광훈이나 도찐개찐  2020.04.08. 오후 9:01   \n",
       "4                     지금 이 시국에   목사가   할 일은   오로지 기도  2020.04.08. 오후 9:01   \n",
       "\n",
       "                      2  \n",
       "0  3,001-3,010 / 5,651건  \n",
       "1  3,001-3,010 / 5,651건  \n",
       "2  3,001-3,010 / 5,651건  \n",
       "3  3,001-3,010 / 5,651건  \n",
       "4  3,001-3,010 / 5,651건  "
      ]
     },
     "execution_count": 19,
     "metadata": {},
     "output_type": "execute_result"
    }
   ],
   "source": [
    "df = pd.DataFrame(zip(news,dates,pages))\n",
    "df.head()"
   ]
  },
  {
   "cell_type": "code",
   "execution_count": 20,
   "metadata": {},
   "outputs": [],
   "source": [
    "df.to_csv('3_naver_news7.csv', index=False, mode='a',encoding='utf-8-sig', header=False)"
   ]
  },
  {
   "cell_type": "code",
   "execution_count": 9,
   "metadata": {},
   "outputs": [
    {
     "data": {
      "text/plain": [
       "'1-10 / 16,873건'"
      ]
     },
     "execution_count": 9,
     "metadata": {},
     "output_type": "execute_result"
    }
   ],
   "source": [
    "soup.find_all('div', class_='title_desc all_my')[0].text"
   ]
  },
  {
   "cell_type": "code",
   "execution_count": 56,
   "metadata": {},
   "outputs": [],
   "source": [
    "df.to_csv('3_naver_news.csv', index=False, encoding='utf-8-sig')"
   ]
  },
  {
   "cell_type": "code",
   "execution_count": 44,
   "metadata": {},
   "outputs": [
    {
     "data": {
      "text/plain": [
       "'0'"
      ]
     },
     "execution_count": 44,
     "metadata": {},
     "output_type": "execute_result"
    }
   ],
   "source": [
    "soup2.find_all('span', class_='u_cbox_info_txt')[0].text"
   ]
  },
  {
   "cell_type": "code",
   "execution_count": 13,
   "metadata": {},
   "outputs": [],
   "source": [
    "driver.get('https://search.naver.com/search.naver?where=news&query=%EC%9D%B4%EB%82%99%EC%97%B0&sm=tab_opt&sort=0&photo=0&field=0&reporter_article=&pd=3&ds=2020.03.15&de=2020.04.14&docid=&nso=so%3Ar%2Cp%3Afrom20200315to20200414%2Ca%3Aall&mynews=0&refresh_start=0&related=0')"
   ]
  },
  {
   "cell_type": "code",
   "execution_count": 24,
   "metadata": {},
   "outputs": [],
   "source": [
    "html = driver.page_source\n",
    "soup = BeautifulSoup(html, 'html.parser')"
   ]
  },
  {
   "cell_type": "code",
   "execution_count": 28,
   "metadata": {},
   "outputs": [],
   "source": [
    "driver.switch_to.window(driver.window_handles[0])"
   ]
  },
  {
   "cell_type": "code",
   "execution_count": 29,
   "metadata": {},
   "outputs": [],
   "source": [
    "driver.find_element_by_class_name('next').click()"
   ]
  },
  {
   "cell_type": "code",
   "execution_count": 20,
   "metadata": {},
   "outputs": [],
   "source": [
    "date = soup.find_all('span', class_='t11')[0].text"
   ]
  },
  {
   "cell_type": "code",
   "execution_count": 25,
   "metadata": {},
   "outputs": [],
   "source": [
    "page_num = soup.find_all('div', class_='title_desc all_my')[0].text"
   ]
  },
  {
   "cell_type": "code",
   "execution_count": 26,
   "metadata": {},
   "outputs": [],
   "source": [
    "a = []\n",
    "b = []\n",
    "\n",
    "for i in range(100):\n",
    "    a.append(date)\n",
    "    b.append(page_num)"
   ]
  },
  {
   "cell_type": "code",
   "execution_count": 25,
   "metadata": {},
   "outputs": [],
   "source": [
    "df.to_csv('naver_news2.csv', index=False, encoding='utf-8-sig')"
   ]
  },
  {
   "cell_type": "code",
   "execution_count": null,
   "metadata": {},
   "outputs": [],
   "source": []
  }
 ],
 "metadata": {
  "kernelspec": {
   "display_name": "Python 3",
   "language": "python",
   "name": "python3"
  },
  "language_info": {
   "codemirror_mode": {
    "name": "ipython",
    "version": 3
   },
   "file_extension": ".py",
   "mimetype": "text/x-python",
   "name": "python",
   "nbconvert_exporter": "python",
   "pygments_lexer": "ipython3",
   "version": "3.7.6"
  },
  "latex_envs": {
   "LaTeX_envs_menu_present": true,
   "autoclose": false,
   "autocomplete": true,
   "bibliofile": "biblio.bib",
   "cite_by": "apalike",
   "current_citInitial": 1,
   "eqLabelWithNumbers": true,
   "eqNumInitial": 1,
   "hotkeys": {
    "equation": "Ctrl-E",
    "itemize": "Ctrl-I"
   },
   "labels_anchors": false,
   "latex_user_defs": false,
   "report_style_numbering": false,
   "user_envs_cfg": false
  },
  "toc": {
   "base_numbering": 1,
   "nav_menu": {},
   "number_sections": false,
   "sideBar": true,
   "skip_h1_title": false,
   "title_cell": "Table of Contents",
   "title_sidebar": "Contents",
   "toc_cell": false,
   "toc_position": {},
   "toc_section_display": true,
   "toc_window_display": false
  },
  "varInspector": {
   "cols": {
    "lenName": 16,
    "lenType": 16,
    "lenVar": 40
   },
   "kernels_config": {
    "python": {
     "delete_cmd_postfix": "",
     "delete_cmd_prefix": "del ",
     "library": "var_list.py",
     "varRefreshCmd": "print(var_dic_list())"
    },
    "r": {
     "delete_cmd_postfix": ") ",
     "delete_cmd_prefix": "rm(",
     "library": "var_list.r",
     "varRefreshCmd": "cat(var_dic_list()) "
    }
   },
   "types_to_exclude": [
    "module",
    "function",
    "builtin_function_or_method",
    "instance",
    "_Feature"
   ],
   "window_display": false
  }
 },
 "nbformat": 4,
 "nbformat_minor": 4
}
